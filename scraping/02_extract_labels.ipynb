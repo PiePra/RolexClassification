{
 "cells": [
  {
   "cell_type": "code",
   "execution_count": 34,
   "metadata": {},
   "outputs": [],
   "source": [
    "import os\n",
    "import requests"
   ]
  },
  {
   "cell_type": "code",
   "execution_count": 35,
   "metadata": {},
   "outputs": [],
   "source": [
    "images = [image for image in os.listdir('rolex_out') if image.endswith('.jpg')]"
   ]
  },
  {
   "cell_type": "code",
   "execution_count": 36,
   "metadata": {},
   "outputs": [],
   "source": [
    "txt = [image for image in os.listdir('../rolex-scraping/rolex') if image.endswith('.txt')]"
   ]
  },
  {
   "cell_type": "code",
   "execution_count": 37,
   "metadata": {},
   "outputs": [],
   "source": [
    "choices = ['daytona', 'submariner', 'oyster-perpetual', 'explorer', 'sky-dweller', 'gmt-master', \\\n",
    "           'day-date', 'yacht-master', 'lady-datejust', 'sea-dweller', 'milgauss', 'cellini', 'pearlmaster', 'air-king']"
   ]
  },
  {
   "cell_type": "code",
   "execution_count": 38,
   "metadata": {},
   "outputs": [],
   "source": [
    "for image in images:\n",
    "    image = image.replace('.jpg', '.txt')\n",
    "    if image in txt:\n",
    "        with open('../rolex-scraping/rolex/'+ image, 'r') as f:\n",
    "            text = f.read().lower()\n",
    "            for choice in choices:\n",
    "                if choice in text or choice.replace('-', '') in text or choice.replace('-', ' ') in text:\n",
    "                    with open('./rolex_out/' + image, 'w') as file:\n",
    "                        file.write(choice)\n",
    "                elif 'datejust' in text:\n",
    "                    with open('./rolex_out/' + image, 'w') as file:\n",
    "                        file.write('datejust')"
   ]
  },
  {
   "cell_type": "code",
   "execution_count": 43,
   "metadata": {},
   "outputs": [],
   "source": [
    "images = [image for image in os.listdir('rolex_out') if image.endswith('.jpg')]\n",
    "txt = [image for image in os.listdir('rolex_out') if image.endswith('.txt')]\n",
    "\n",
    "for image in images:\n",
    "    if image.replace('.jpg', '.txt') not in txt:\n",
    "        os.remove('rolex_out/'+ image)"
   ]
  },
  {
   "cell_type": "code",
   "execution_count": 48,
   "metadata": {},
   "outputs": [
    {
     "name": "stdout",
     "output_type": "stream",
     "text": [
      "288.5\n"
     ]
    }
   ],
   "source": [
    "print(len(os.listdir('rolex_out') ) /2 )"
   ]
  }
 ],
 "metadata": {
  "kernelspec": {
   "display_name": "Python 3 (ipykernel)",
   "language": "python",
   "name": "python3"
  },
  "language_info": {
   "codemirror_mode": {
    "name": "ipython",
    "version": 3
   },
   "file_extension": ".py",
   "mimetype": "text/x-python",
   "name": "python",
   "nbconvert_exporter": "python",
   "pygments_lexer": "ipython3",
   "version": "3.8.8"
  }
 },
 "nbformat": 4,
 "nbformat_minor": 5
}
