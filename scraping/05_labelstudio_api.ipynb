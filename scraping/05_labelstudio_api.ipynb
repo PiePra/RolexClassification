{
 "cells": [
  {
   "cell_type": "code",
   "execution_count": null,
   "id": "df7cc81e-d1c9-4fab-be8e-543d2061ec87",
   "metadata": {},
   "outputs": [],
   "source": [
    "token = '2587f2695ae6f512d7709cfd084be91e8bd8f7d8'\n",
    "headers = {'Authorization': f\"Token {token}\"}\n",
    "\n",
    "labeler = requests.get('http://localhost:8080/api/tasks', headers=headers).json()"
   ]
  },
  {
   "cell_type": "code",
   "execution_count": null,
   "id": "0f0aeb57-ed40-43a2-b375-6ff5e00e4f8a",
   "metadata": {},
   "outputs": [],
   "source": [
    "labeler[1]"
   ]
  },
  {
   "cell_type": "code",
   "execution_count": null,
   "id": "835cd992-f90e-4972-a0eb-4a8a182f5b81",
   "metadata": {},
   "outputs": [],
   "source": [
    "labeler = requests.get('http://localhost:8080/api/tasks/1/annotations', headers=headers).json()"
   ]
  },
  {
   "cell_type": "code",
   "execution_count": null,
   "id": "801ce11f-21d9-4d11-9ea2-e4e295b9d258",
   "metadata": {},
   "outputs": [],
   "source": [
    "                    #print(choice, image)\n",
    "                    #body = {'result': [{'value': {'choices': [choice]}, 'from_name': 'choice', 'to_name': 'image', 'type': 'choices'}] }\n",
    "                    #requests.post(f'http://localhost:8080/api/tasks/{id}/annotations/', json=body, headers=headers)"
   ]
  },
  {
   "cell_type": "code",
   "execution_count": null,
   "id": "842e7fee-9428-4a48-8f87-b836f237af57",
   "metadata": {},
   "outputs": [],
   "source": [
    "for i in range(len(labeler)): \n",
    "    image = labeler[i]['data']['image'].split('/')[-1][:23]"
   ]
  }
 ],
 "metadata": {
  "kernelspec": {
   "display_name": "Python 3",
   "language": "python",
   "name": "python3"
  },
  "language_info": {
   "codemirror_mode": {
    "name": "ipython",
    "version": 3
   },
   "file_extension": ".py",
   "mimetype": "text/x-python",
   "name": "python",
   "nbconvert_exporter": "python",
   "pygments_lexer": "ipython3",
   "version": "3.8.8"
  }
 },
 "nbformat": 4,
 "nbformat_minor": 5
}
