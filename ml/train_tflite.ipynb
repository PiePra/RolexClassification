{
 "cells": [
  {
   "cell_type": "code",
   "execution_count": 1,
   "metadata": {},
   "outputs": [
    {
     "name": "stdout",
     "output_type": "stream",
     "text": [
      "\u001b[31mERROR: pip's dependency resolver does not currently take into account all the packages that are installed. This behaviour is the source of the following dependency conflicts.\n",
      "conda-repo-cli 1.0.4 requires pathlib, which is not installed.\n",
      "anaconda-project 0.10.2 requires ruamel-yaml, which is not installed.\n",
      "poetry 1.1.11 requires keyring<22.0.0,>=21.2.0; python_version >= \"3.6\" and python_version < \"4.0\", but you have keyring 23.1.0 which is incompatible.\n",
      "poetry 1.1.11 requires packaging<21.0,>=20.4, but you have packaging 21.3 which is incompatible.\n",
      "kserve 0.7.0 requires azure-storage-blob==12.8.1, but you have azure-storage-blob 2.1.0 which is incompatible.\n",
      "kserve 0.7.0 requires certifi==2021.5.30, but you have certifi 2021.10.8 which is incompatible.\n",
      "kserve 0.7.0 requires cryptography==3.4.7, but you have cryptography 35.0.0 which is incompatible.\n",
      "kserve 0.7.0 requires kubernetes>=12.0.0, but you have kubernetes 10.0.1 which is incompatible.\n",
      "kserve 0.7.0 requires minio<7.0.0,>=4.0.9, but you have minio 7.1.1 which is incompatible.\u001b[0m\n"
     ]
    }
   ],
   "source": [
    "!pip install -q tflite-model-maker"
   ]
  },
  {
   "cell_type": "code",
   "execution_count": 2,
   "metadata": {},
   "outputs": [
    {
     "name": "stderr",
     "output_type": "stream",
     "text": [
      "2022-01-27 18:43:26.316243: W tensorflow/stream_executor/platform/default/dso_loader.cc:64] Could not load dynamic library 'libcudart.so.11.0'; dlerror: libcudart.so.11.0: cannot open shared object file: No such file or directory\n",
      "2022-01-27 18:43:26.316259: I tensorflow/stream_executor/cuda/cudart_stub.cc:29] Ignore above cudart dlerror if you do not have a GPU set up on your machine.\n"
     ]
    }
   ],
   "source": [
    "import os\n",
    "\n",
    "import numpy as np\n",
    "\n",
    "import tensorflow as tf\n",
    "assert tf.__version__.startswith('2')\n",
    "\n",
    "from tflite_model_maker import model_spec\n",
    "from tflite_model_maker import image_classifier\n",
    "from tflite_model_maker.config import ExportFormat\n",
    "from tflite_model_maker.config import QuantizationConfig\n",
    "from tflite_model_maker.image_classifier import DataLoader\n",
    "\n",
    "import matplotlib.pyplot as plt"
   ]
  },
  {
   "cell_type": "code",
   "execution_count": 9,
   "metadata": {},
   "outputs": [
    {
     "name": "stdout",
     "output_type": "stream",
     "text": [
      "INFO:tensorflow:Load image with size: 3168, num_label: 14, labels: air-king, cellini, datejust, day-date, daytona, explorer, gmt-master, milgauss, oyster-perpetual, pearlmaster, sea-dweller, sky-dweller, submariner, yacht-master.\n"
     ]
    },
    {
     "name": "stderr",
     "output_type": "stream",
     "text": [
      "INFO:tensorflow:Load image with size: 3168, num_label: 14, labels: air-king, cellini, datejust, day-date, daytona, explorer, gmt-master, milgauss, oyster-perpetual, pearlmaster, sea-dweller, sky-dweller, submariner, yacht-master.\n"
     ]
    }
   ],
   "source": [
    "data = DataLoader.from_folder(\"/home/pierre/train_\")\n",
    "train_data, test_data = data.split(0.9)"
   ]
  },
  {
   "cell_type": "code",
   "execution_count": 10,
   "metadata": {},
   "outputs": [
    {
     "name": "stdout",
     "output_type": "stream",
     "text": [
      "INFO:tensorflow:Retraining the models...\n"
     ]
    },
    {
     "name": "stderr",
     "output_type": "stream",
     "text": [
      "INFO:tensorflow:Retraining the models...\n"
     ]
    },
    {
     "name": "stdout",
     "output_type": "stream",
     "text": [
      "Model: \"sequential_3\"\n",
      "_________________________________________________________________\n",
      " Layer (type)                Output Shape              Param #   \n",
      "=================================================================\n",
      " hub_keras_layer_v1v2_3 (Hub  (None, 1280)             3413024   \n",
      " KerasLayerV1V2)                                                 \n",
      "                                                                 \n",
      " dropout_3 (Dropout)         (None, 1280)              0         \n",
      "                                                                 \n",
      " dense_3 (Dense)             (None, 14)                17934     \n",
      "                                                                 \n",
      "=================================================================\n",
      "Total params: 3,430,958\n",
      "Trainable params: 17,934\n",
      "Non-trainable params: 3,413,024\n",
      "_________________________________________________________________\n",
      "None\n",
      "Epoch 1/5\n",
      "89/89 [==============================] - 38s 413ms/step - loss: 1.8700 - accuracy: 0.4807\n",
      "Epoch 2/5\n",
      "89/89 [==============================] - 37s 415ms/step - loss: 1.2931 - accuracy: 0.7209\n",
      "Epoch 3/5\n",
      "89/89 [==============================] - 37s 415ms/step - loss: 1.1208 - accuracy: 0.8258\n",
      "Epoch 4/5\n",
      "89/89 [==============================] - 38s 422ms/step - loss: 1.0261 - accuracy: 0.8596\n",
      "Epoch 5/5\n",
      "89/89 [==============================] - 37s 418ms/step - loss: 0.9782 - accuracy: 0.8880\n"
     ]
    }
   ],
   "source": [
    "model = image_classifier.create(train_data)"
   ]
  },
  {
   "cell_type": "code",
   "execution_count": 11,
   "metadata": {},
   "outputs": [
    {
     "name": "stdout",
     "output_type": "stream",
     "text": [
      "10/10 [==============================] - 6s 406ms/step - loss: 0.9369 - accuracy: 0.9211\n"
     ]
    }
   ],
   "source": [
    "loss, accuracy = model.evaluate(test_data)\n"
   ]
  },
  {
   "cell_type": "code",
   "execution_count": 12,
   "metadata": {},
   "outputs": [
    {
     "name": "stderr",
     "output_type": "stream",
     "text": [
      "2022-01-27 18:56:53.702598: W tensorflow/python/util/util.cc:368] Sets are not currently considered sequences, but this may change in the future, so consider avoiding using them.\n"
     ]
    },
    {
     "name": "stdout",
     "output_type": "stream",
     "text": [
      "INFO:tensorflow:Assets written to: /tmp/tmp46h8zry5/assets\n"
     ]
    },
    {
     "name": "stderr",
     "output_type": "stream",
     "text": [
      "INFO:tensorflow:Assets written to: /tmp/tmp46h8zry5/assets\n",
      "2022-01-27 18:56:56.857677: I tensorflow/core/grappler/devices.cc:66] Number of eligible GPUs (core count >= 8, compute capability >= 0.0): 0\n",
      "2022-01-27 18:56:56.857771: I tensorflow/core/grappler/clusters/single_machine.cc:358] Starting new session\n",
      "2022-01-27 18:56:56.886143: I tensorflow/core/grappler/optimizers/meta_optimizer.cc:1149] Optimization results for grappler item: graph_to_optimize\n",
      "  function_optimizer: Graph size after: 913 nodes (656), 923 edges (664), time = 16.18ms.\n",
      "  function_optimizer: function_optimizer did nothing. time = 0.438ms.\n",
      "\n",
      "2022-01-27 18:56:57.390659: W tensorflow/compiler/mlir/lite/python/tf_tfl_flatbuffer_helpers.cc:363] Ignored output_format.\n",
      "2022-01-27 18:56:57.390683: W tensorflow/compiler/mlir/lite/python/tf_tfl_flatbuffer_helpers.cc:366] Ignored drop_control_dependency.\n",
      "2022-01-27 18:56:57.419219: I tensorflow/compiler/mlir/tensorflow/utils/dump_mlir_util.cc:237] disabling MLIR crash reproducer, set env var `MLIR_CRASH_REPRODUCER_DIRECTORY` to enable.\n"
     ]
    },
    {
     "name": "stdout",
     "output_type": "stream",
     "text": [
      "INFO:tensorflow:Label file is inside the TFLite model with metadata.\n"
     ]
    },
    {
     "name": "stderr",
     "output_type": "stream",
     "text": [
      "fully_quantize: 0, inference_type: 6, input_inference_type: 3, output_inference_type: 3\n",
      "INFO:tensorflow:Label file is inside the TFLite model with metadata.\n"
     ]
    },
    {
     "name": "stdout",
     "output_type": "stream",
     "text": [
      "INFO:tensorflow:Saving labels in /tmp/tmpdlid5klu/labels.txt\n"
     ]
    },
    {
     "name": "stderr",
     "output_type": "stream",
     "text": [
      "INFO:tensorflow:Saving labels in /tmp/tmpdlid5klu/labels.txt\n"
     ]
    },
    {
     "name": "stdout",
     "output_type": "stream",
     "text": [
      "INFO:tensorflow:TensorFlow Lite model exported successfully: ./model.tflite\n"
     ]
    },
    {
     "name": "stderr",
     "output_type": "stream",
     "text": [
      "INFO:tensorflow:TensorFlow Lite model exported successfully: ./model.tflite\n"
     ]
    }
   ],
   "source": [
    "model.export(export_dir='.')"
   ]
  }
 ],
 "metadata": {
  "kernelspec": {
   "display_name": "Python 3 (ipykernel)",
   "language": "python",
   "name": "python3"
  },
  "kubeflow_notebook": {
   "autosnapshot": false,
   "docker_image": "",
   "experiment": {
    "id": "",
    "name": ""
   },
   "experiment_name": "",
   "katib_metadata": {
    "algorithm": {
     "algorithmName": "grid"
    },
    "maxFailedTrialCount": 3,
    "maxTrialCount": 12,
    "objective": {
     "objectiveMetricName": "",
     "type": "minimize"
    },
    "parallelTrialCount": 3,
    "parameters": []
   },
   "katib_run": false,
   "pipeline_description": "",
   "pipeline_name": "",
   "snapshot_volumes": false,
   "steps_defaults": [],
   "volume_access_mode": "rwm",
   "volumes": []
  },
  "language_info": {
   "codemirror_mode": {
    "name": "ipython",
    "version": 3
   },
   "file_extension": ".py",
   "mimetype": "text/x-python",
   "name": "python",
   "nbconvert_exporter": "python",
   "pygments_lexer": "ipython3",
   "version": "3.8.8"
  }
 },
 "nbformat": 4,
 "nbformat_minor": 4
}
